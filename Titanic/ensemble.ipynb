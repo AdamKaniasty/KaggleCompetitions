{
 "cells": [
  {
   "cell_type": "code",
   "execution_count": 347,
   "metadata": {},
   "outputs": [],
   "source": [
    "import numpy as np\n",
    "import pandas as pd\n",
    "import matplotlib.pyplot as plt\n",
    "import tensorflow as tf\n",
    "from sklearn.model_selection import train_test_split, RepeatedStratifiedKFold, cross_val_score\n",
    "from sklearn.preprocessing import StandardScaler, MinMaxScaler\n",
    "from sklearn.metrics import roc_curve,f1_score\n",
    "import seaborn as sns\n",
    "from tqdm import tqdm\n",
    "\n",
    "\n",
    "def load_file(name):\n",
    "    file = pd.read_csv(name)\n",
    "    file.set_index(\"PassengerId\",inplace = True)\n",
    "    file = file.to_numpy().astype(float)\n",
    "    return file\n",
    "\n",
    "X_test = load_file(\"Preprocessed_Data/X_test.csv\")\n",
    "X_train = load_file(\"Preprocessed_Data/X_train.csv\")\n",
    "y_test = load_file(\"Preprocessed_Data/y_test.csv\").ravel()\n",
    "y_train = load_file(\"Preprocessed_Data/y_train.csv\").ravel()\n",
    "target = load_file(\"Preprocessed_Data/target.csv\")\n",
    "\n",
    "target_index = pd.read_csv(\"Preprocessed_Data/target.csv\")\n",
    "target_index = target_index[\"PassengerId\"]"
   ]
  },
  {
   "cell_type": "code",
   "execution_count": 348,
   "metadata": {},
   "outputs": [],
   "source": [
    "def stack(stacking_models):\n",
    "    estimators = list(stacking_models.items())    \n",
    "    clf = ensemble.StackingClassifier(estimators = estimators[0:len(estimators)-1], final_estimator=estimators[-1][1])\n",
    "    return clf"
   ]
  },
  {
   "cell_type": "code",
   "execution_count": 349,
   "metadata": {},
   "outputs": [],
   "source": [
    "from xgboost import XGBClassifier\n",
    "from sklearn import svm, neighbors, ensemble\n",
    "stacking_models = {\n",
    "    \"svc\": svm.SVC(kernel = \"linear\", C = 0.025),\n",
    "    \"rfc\": ensemble.RandomForestClassifier(n_estimators = 500, warm_start = True, n_jobs = -1, max_depth = 8),\n",
    "    \"ada\": ensemble.AdaBoostClassifier(n_estimators = 500, learning_rate = 0.75),\n",
    "    \"gb\": ensemble.GradientBoostingClassifier(n_estimators = 500, max_depth = 6, verbose = False),\n",
    "    \"ext\": ensemble.ExtraTreesClassifier(n_estimators = 500, n_jobs = -1, max_depth = 6),\n",
    "    \"xgb\": XGBClassifier(n_estimators = 2000, objective = \"binary:logistic\", )\n",
    "} \n",
    "\n",
    "clf = stack(stacking_models)\n",
    "\n",
    "models = stacking_models.copy()\n",
    "models[\"clf\"] = clf"
   ]
  },
  {
   "cell_type": "code",
   "execution_count": 350,
   "metadata": {},
   "outputs": [
    {
     "name": "stderr",
     "output_type": "stream",
     "text": [
      "100%|██████████| 7/7 [00:31<00:00,  4.55s/it]\n"
     ]
    }
   ],
   "source": [
    "output = {}\n",
    "for i in tqdm(models):\n",
    "    model = models[i]\n",
    "    model.fit(X_train,y_train,)\n",
    "    output[i] = np.round(model.score(X_test,y_test),2)\n",
    "output = {k: v for k, v in sorted(output.items(), key=lambda item: item[1])}"
   ]
  },
  {
   "cell_type": "code",
   "execution_count": 351,
   "metadata": {},
   "outputs": [
    {
     "data": {
      "text/plain": [
       "{'ada': 0.82,\n",
       " 'svc': 0.84,\n",
       " 'gb': 0.84,\n",
       " 'rfc': 0.85,\n",
       " 'xgb': 0.85,\n",
       " 'clf': 0.85,\n",
       " 'ext': 0.86}"
      ]
     },
     "execution_count": 351,
     "metadata": {},
     "output_type": "execute_result"
    }
   ],
   "source": [
    "output"
   ]
  },
  {
   "cell_type": "code",
   "execution_count": 352,
   "metadata": {},
   "outputs": [],
   "source": [
    "def to_labels(pos_probs, threshold):\n",
    "\treturn (pos_probs >= threshold).astype('int')"
   ]
  },
  {
   "cell_type": "code",
   "execution_count": 357,
   "metadata": {},
   "outputs": [
    {
     "data": {
      "image/png": "[encoded data removed]",
      "text/plain": [
       "<Figure size 432x288 with 1 Axes>"
      ]
     },
     "metadata": {
      "needs_background": "light"
     },
     "output_type": "display_data"
    },
    {
     "name": "stdout",
     "output_type": "stream",
     "text": [
      "0.448\n"
     ]
    }
   ],
   "source": [
    "predictions = models[\"clf\"].predict_proba(X_test)\n",
    "yhat = predictions[:, 1]\n",
    "fpr, tpr, thresholds = roc_curve(y_test.reshape(-1, 1), yhat)\n",
    "plt.plot([0,1], [0,1], linestyle='--', label='No Skill')\n",
    "plt.plot(fpr, tpr, marker='.', label='clf')\n",
    "plt.show()\n",
    "\n",
    "thresholds = np.arange(0, 1, 0.001)\n",
    "scores = [f1_score(y_test, to_labels(yhat, t)) for t in thresholds]\n",
    "ix = thresholds[np.argmax(scores)]\n",
    "print(ix)"
   ]
  },
  {
   "cell_type": "code",
   "execution_count": 354,
   "metadata": {},
   "outputs": [],
   "source": [
    "from datetime import datetime\n",
    "predictions = models[\"clf\"].predict_proba(target)\n",
    "predictions = [1 if x >= 0.4 else 0 for x in predictions[:,1]]\n",
    "df = pd.DataFrame(predictions,columns=[\"Survived\"])\n",
    "df.index = target_index\n",
    "df.index.name = 'PassengerId'\n",
    "now = datetime.now()\n",
    "now = now.strftime(\"%Y.%m.%d.%H.%M\")\n",
    "df.to_csv(\"Predictions/{}.csv\".format(now))"
   ]
  }
 ],
 "metadata": {
  "interpreter": {
   "hash": "43f0ca11ed382140051881ed6533fa07526a309ad743bba968e66f399578d266"
  },
  "kernelspec": {
   "display_name": "Python 3.8.8 ('base')",
   "language": "python",
   "name": "python3"
  },
  "language_info": {
   "codemirror_mode": {
    "name": "ipython",
    "version": 3
   },
   "file_extension": ".py",
   "mimetype": "text/x-python",
   "name": "python",
   "nbconvert_exporter": "python",
   "pygments_lexer": "ipython3",
   "version": "3.8.8"
  },
  "orig_nbformat": 4
 },
 "nbformat": 4,
 "nbformat_minor": 2
}
